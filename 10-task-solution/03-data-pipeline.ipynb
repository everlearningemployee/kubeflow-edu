{
 "cells": [
  {
   "cell_type": "code",
   "execution_count": 2,
   "metadata": {},
   "outputs": [
    {
     "data": {
      "text/html": [
       "Experiment link <a href=\"/pipeline/#/experiments/details/be429567-c9c4-40ff-b91a-3bb6c0e7591c\" target=\"_blank\" >here</a>"
      ],
      "text/plain": [
       "<IPython.core.display.HTML object>"
      ]
     },
     "metadata": {},
     "output_type": "display_data"
    },
    {
     "data": {
      "text/html": [
       "Run link <a href=\"/pipeline/#/runs/details/a5132e31-dab3-4078-98ed-be3f7120044f\" target=\"_blank\" >here</a>"
      ],
      "text/plain": [
       "<IPython.core.display.HTML object>"
      ]
     },
     "metadata": {},
     "output_type": "display_data"
    }
   ],
   "source": [
    "import kfp\n",
    "import kfp.dsl as dsl\n",
    "import kfp.onprem as onprem\n",
    "import kfp.components as comp\n",
    "\n",
    "# for tensorboard\n",
    "from kubernetes.client.models import V1EnvVar\n",
    "    \n",
    "@dsl.pipeline(\n",
    "    name='dataPipeline',\n",
    "    description='data download and train'\n",
    ")\n",
    "\n",
    "def data_pipeline():\n",
    "\n",
    "    admin_pvc = dsl.PipelineVolume(pvc=\"admin-pvc\", name=\"admin-pvc\") # admin-pvc 활용\n",
    "         \n",
    "    data_pv = dsl.ContainerOp(\n",
    "        name='data_download',\n",
    "        image='kubeflow-registry.default.svc.cluster.local:30000/datadownload-job:9A1FC451',  # fairing image\n",
    "        command=['python', '/app/01-data-download.py'],\n",
    "        pvolumes={\"/mnt/data\" : admin_pvc}                            # folder 명 맞추어야 함\n",
    "    )\n",
    "    \n",
    "    pv_train = dsl.ContainerOp(\n",
    "        name='mnist_training',\n",
    "        image='kubeflow-registry.default.svc.cluster.local:30000/traindata-job:7A662BD7',     # fairing image\n",
    "        command=['python', '/app/02-train-data.py'],\n",
    "        pvolumes={\"/mnt/data\" : admin_pvc}                            # folder 명 맞추어야 함\n",
    "    )\n",
    "    \n",
    "    pv_train.after(data_pv) # pipeline code\n",
    "\n",
    "if __name__ == '__main__':\n",
    "    my_run = kfp.Client().create_run_from_pipeline_func(data_pipeline, arguments={}, experiment_name='data-pipeline')"
   ]
  },
  {
   "cell_type": "code",
   "execution_count": null,
   "metadata": {},
   "outputs": [],
   "source": []
  }
 ],
 "metadata": {
  "kernelspec": {
   "display_name": "Python 3",
   "language": "python",
   "name": "python3"
  },
  "language_info": {
   "codemirror_mode": {
    "name": "ipython",
    "version": 3
   },
   "file_extension": ".py",
   "mimetype": "text/x-python",
   "name": "python",
   "nbconvert_exporter": "python",
   "pygments_lexer": "ipython3",
   "version": "3.6.8"
  }
 },
 "nbformat": 4,
 "nbformat_minor": 4
}
