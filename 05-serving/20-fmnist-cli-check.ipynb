{
 "cells": [
  {
   "cell_type": "code",
   "execution_count": 1,
   "metadata": {},
   "outputs": [],
   "source": [
    "from tensorflow import keras \n",
    "import numpy as np \n",
    "import json\n",
    "import matplotlib.pyplot as plt"
   ]
  },
  {
   "cell_type": "code",
   "execution_count": 2,
   "metadata": {},
   "outputs": [],
   "source": [
    "fasion_mnist = keras.datasets.fashion_mnist\n",
    "(train_X, train_y), (test_X, test_y) = fasion_mnist.load_data()"
   ]
  },
  {
   "cell_type": "code",
   "execution_count": 3,
   "metadata": {},
   "outputs": [],
   "source": [
    "class_names = ['T-shirt/top', 'Trouser', 'Pullover', 'Dress', 'Coat', 'Sandal', 'Shirt', 'Sneaker', 'Bag', 'Ankle boot']"
   ]
  },
  {
   "cell_type": "code",
   "execution_count": 4,
   "metadata": {},
   "outputs": [
    {
     "data": {
      "image/png": "[encoded data removed]",
      "text/plain": [
       "<Figure size 432x288 with 2 Axes>"
      ]
     },
     "metadata": {
      "needs_background": "light"
     },
     "output_type": "display_data"
    }
   ],
   "source": [
    "plt.figure() \n",
    "plt.imshow(train_X[0]) \n",
    "plt.colorbar() \n",
    "plt.grid(False) \n",
    "plt.show()"
   ]
  },
  {
   "cell_type": "code",
   "execution_count": 5,
   "metadata": {},
   "outputs": [
    {
     "name": "stdout",
     "output_type": "stream",
     "text": [
      "9\n"
     ]
    }
   ],
   "source": [
    "# 'Ankle boot' 확인\n",
    "print(train_y[0])"
   ]
  },
  {
   "cell_type": "code",
   "execution_count": 6,
   "metadata": {},
   "outputs": [
    {
     "data": {
      "text/plain": [
       "array([[  0,   0,   0,   0,   0,   0,   0,   0,   0,   0,   0,   0,   0,\n",
       "          0,   0,   0,   0,   0,   0,   0,   0,   0,   0,   0,   0,   0,\n",
       "          0,   0],\n",
       "       [  0,   0,   0,   0,   0,   0,   0,   0,   0,   0,   0,   0,   0,\n",
       "          0,   0,   0,   0,   0,   0,   0,   0,   0,   0,   0,   0,   0,\n",
       "          0,   0],\n",
       "       [  0,   0,   0,   0,   0,   0,   0,   0,   0,   0,   0,   0,   0,\n",
       "          0,   0,   0,   0,   0,   0,   0,   0,   0,   0,   0,   0,   0,\n",
       "          0,   0],\n",
       "       [  0,   0,   0,   0,   0,   0,   0,   0,   0,   0,   0,   0,   1,\n",
       "          0,   0,  13,  73,   0,   0,   1,   4,   0,   0,   0,   0,   1,\n",
       "          1,   0],\n",
       "       [  0,   0,   0,   0,   0,   0,   0,   0,   0,   0,   0,   0,   3,\n",
       "          0,  36, 136, 127,  62,  54,   0,   0,   0,   1,   3,   4,   0,\n",
       "          0,   3],\n",
       "       [  0,   0,   0,   0,   0,   0,   0,   0,   0,   0,   0,   0,   6,\n",
       "          0, 102, 204, 176, 134, 144, 123,  23,   0,   0,   0,   0,  12,\n",
       "         10,   0],\n",
       "       [  0,   0,   0,   0,   0,   0,   0,   0,   0,   0,   0,   0,   0,\n",
       "          0, 155, 236, 207, 178, 107, 156, 161, 109,  64,  23,  77, 130,\n",
       "         72,  15],\n",
       "       [  0,   0,   0,   0,   0,   0,   0,   0,   0,   0,   0,   1,   0,\n",
       "         69, 207, 223, 218, 216, 216, 163, 127, 121, 122, 146, 141,  88,\n",
       "        172,  66],\n",
       "       [  0,   0,   0,   0,   0,   0,   0,   0,   0,   1,   1,   1,   0,\n",
       "        200, 232, 232, 233, 229, 223, 223, 215, 213, 164, 127, 123, 196,\n",
       "        229,   0],\n",
       "       [  0,   0,   0,   0,   0,   0,   0,   0,   0,   0,   0,   0,   0,\n",
       "        183, 225, 216, 223, 228, 235, 227, 224, 222, 224, 221, 223, 245,\n",
       "        173,   0],\n",
       "       [  0,   0,   0,   0,   0,   0,   0,   0,   0,   0,   0,   0,   0,\n",
       "        193, 228, 218, 213, 198, 180, 212, 210, 211, 213, 223, 220, 243,\n",
       "        202,   0],\n",
       "       [  0,   0,   0,   0,   0,   0,   0,   0,   0,   1,   3,   0,  12,\n",
       "        219, 220, 212, 218, 192, 169, 227, 208, 218, 224, 212, 226, 197,\n",
       "        209,  52],\n",
       "       [  0,   0,   0,   0,   0,   0,   0,   0,   0,   0,   6,   0,  99,\n",
       "        244, 222, 220, 218, 203, 198, 221, 215, 213, 222, 220, 245, 119,\n",
       "        167,  56],\n",
       "       [  0,   0,   0,   0,   0,   0,   0,   0,   0,   4,   0,   0,  55,\n",
       "        236, 228, 230, 228, 240, 232, 213, 218, 223, 234, 217, 217, 209,\n",
       "         92,   0],\n",
       "       [  0,   0,   1,   4,   6,   7,   2,   0,   0,   0,   0,   0, 237,\n",
       "        226, 217, 223, 222, 219, 222, 221, 216, 223, 229, 215, 218, 255,\n",
       "         77,   0],\n",
       "       [  0,   3,   0,   0,   0,   0,   0,   0,   0,  62, 145, 204, 228,\n",
       "        207, 213, 221, 218, 208, 211, 218, 224, 223, 219, 215, 224, 244,\n",
       "        159,   0],\n",
       "       [  0,   0,   0,   0,  18,  44,  82, 107, 189, 228, 220, 222, 217,\n",
       "        226, 200, 205, 211, 230, 224, 234, 176, 188, 250, 248, 233, 238,\n",
       "        215,   0],\n",
       "       [  0,  57, 187, 208, 224, 221, 224, 208, 204, 214, 208, 209, 200,\n",
       "        159, 245, 193, 206, 223, 255, 255, 221, 234, 221, 211, 220, 232,\n",
       "        246,   0],\n",
       "       [  3, 202, 228, 224, 221, 211, 211, 214, 205, 205, 205, 220, 240,\n",
       "         80, 150, 255, 229, 221, 188, 154, 191, 210, 204, 209, 222, 228,\n",
       "        225,   0],\n",
       "       [ 98, 233, 198, 210, 222, 229, 229, 234, 249, 220, 194, 215, 217,\n",
       "        241,  65,  73, 106, 117, 168, 219, 221, 215, 217, 223, 223, 224,\n",
       "        229,  29],\n",
       "       [ 75, 204, 212, 204, 193, 205, 211, 225, 216, 185, 197, 206, 198,\n",
       "        213, 240, 195, 227, 245, 239, 223, 218, 212, 209, 222, 220, 221,\n",
       "        230,  67],\n",
       "       [ 48, 203, 183, 194, 213, 197, 185, 190, 194, 192, 202, 214, 219,\n",
       "        221, 220, 236, 225, 216, 199, 206, 186, 181, 177, 172, 181, 205,\n",
       "        206, 115],\n",
       "       [  0, 122, 219, 193, 179, 171, 183, 196, 204, 210, 213, 207, 211,\n",
       "        210, 200, 196, 194, 191, 195, 191, 198, 192, 176, 156, 167, 177,\n",
       "        210,  92],\n",
       "       [  0,   0,  74, 189, 212, 191, 175, 172, 175, 181, 185, 188, 189,\n",
       "        188, 193, 198, 204, 209, 210, 210, 211, 188, 188, 194, 192, 216,\n",
       "        170,   0],\n",
       "       [  2,   0,   0,   0,  66, 200, 222, 237, 239, 242, 246, 243, 244,\n",
       "        221, 220, 193, 191, 179, 182, 182, 181, 176, 166, 168,  99,  58,\n",
       "          0,   0],\n",
       "       [  0,   0,   0,   0,   0,   0,   0,  40,  61,  44,  72,  41,  35,\n",
       "          0,   0,   0,   0,   0,   0,   0,   0,   0,   0,   0,   0,   0,\n",
       "          0,   0],\n",
       "       [  0,   0,   0,   0,   0,   0,   0,   0,   0,   0,   0,   0,   0,\n",
       "          0,   0,   0,   0,   0,   0,   0,   0,   0,   0,   0,   0,   0,\n",
       "          0,   0],\n",
       "       [  0,   0,   0,   0,   0,   0,   0,   0,   0,   0,   0,   0,   0,\n",
       "          0,   0,   0,   0,   0,   0,   0,   0,   0,   0,   0,   0,   0,\n",
       "          0,   0]], dtype=uint8)"
      ]
     },
     "execution_count": 6,
     "metadata": {},
     "output_type": "execute_result"
    }
   ],
   "source": [
    "train_X[0]"
   ]
  },
  {
   "cell_type": "code",
   "execution_count": 7,
   "metadata": {},
   "outputs": [],
   "source": [
    "# train_X[0] 를 train에 맞도록 json_data로 변경\n",
    "json_data = { \"instances\": [{'flatten_input': [ 0,   0,   0,   0,   0,   0,   0,   0,   0,   0,   0,   0,   0,\n",
    "          0,   0,   0,   0,   0,   0,   0,   0,   0,   0,   0,   0,   0,\n",
    "          0,   0,\n",
    "         0,   0,   0,   0,   0,   0,   0,   0,   0,   0,   0,   0,   0,\n",
    "          0,   0,   0,   0,   0,   0,   0,   0,   0,   0,   0,   0,   0,\n",
    "          0,   0,\n",
    "         0,   0,   0,   0,   0,   0,   0,   0,   0,   0,   0,   0,   0,\n",
    "          0,   0,   0,   0,   0,   0,   0,   0,   0,   0,   0,   0,   0,\n",
    "          0,   0,\n",
    "         0,   0,   0,   0,   0,   0,   0,   0,   0,   0,   0,   0,   1,\n",
    "          0,   0,  13,  73,   0,   0,   1,   4,   0,   0,   0,   0,   1,\n",
    "          1,   0,\n",
    "         0,   0,   0,   0,   0,   0,   0,   0,   0,   0,   0,   0,   3,\n",
    "          0,  36, 136, 127,  62,  54,   0,   0,   0,   1,   3,   4,   0,\n",
    "          0,   3,\n",
    "         0,   0,   0,   0,   0,   0,   0,   0,   0,   0,   0,   0,   6,\n",
    "          0, 102, 204, 176, 134, 144, 123,  23,   0,   0,   0,   0,  12,\n",
    "         10,   0,\n",
    "         0,   0,   0,   0,   0,   0,   0,   0,   0,   0,   0,   0,   0,\n",
    "          0, 155, 236, 207, 178, 107, 156, 161, 109,  64,  23,  77, 130,\n",
    "         72,  15,\n",
    "         0,   0,   0,   0,   0,   0,   0,   0,   0,   0,   0,   1,   0,\n",
    "         69, 207, 223, 218, 216, 216, 163, 127, 121, 122, 146, 141,  88,\n",
    "        172,  66,\n",
    "         0,   0,   0,   0,   0,   0,   0,   0,   0,   1,   1,   1,   0,\n",
    "        200, 232, 232, 233, 229, 223, 223, 215, 213, 164, 127, 123, 196,\n",
    "        229,   0,\n",
    "         0,   0,   0,   0,   0,   0,   0,   0,   0,   0,   0,   0,   0,\n",
    "        183, 225, 216, 223, 228, 235, 227, 224, 222, 224, 221, 223, 245,\n",
    "        173,   0,\n",
    "         0,   0,   0,   0,   0,   0,   0,   0,   0,   0,   0,   0,   0,\n",
    "        193, 228, 218, 213, 198, 180, 212, 210, 211, 213, 223, 220, 243,\n",
    "        202,   0,\n",
    "         0,   0,   0,   0,   0,   0,   0,   0,   0,   1,   3,   0,  12,\n",
    "        219, 220, 212, 218, 192, 169, 227, 208, 218, 224, 212, 226, 197,\n",
    "        209,  52,\n",
    "         0,   0,   0,   0,   0,   0,   0,   0,   0,   0,   6,   0,  99,\n",
    "        244, 222, 220, 218, 203, 198, 221, 215, 213, 222, 220, 245, 119,\n",
    "        167,  56,\n",
    "         0,   0,   0,   0,   0,   0,   0,   0,   0,   4,   0,   0,  55,\n",
    "        236, 228, 230, 228, 240, 232, 213, 218, 223, 234, 217, 217, 209,\n",
    "         92,   0,\n",
    "         0,   0,   1,   4,   6,   7,   2,   0,   0,   0,   0,   0, 237,\n",
    "        226, 217, 223, 222, 219, 222, 221, 216, 223, 229, 215, 218, 255,\n",
    "         77,   0,\n",
    "         0,   3,   0,   0,   0,   0,   0,   0,   0,  62, 145, 204, 228,\n",
    "        207, 213, 221, 218, 208, 211, 218, 224, 223, 219, 215, 224, 244,\n",
    "        159,   0,\n",
    "         0,   0,   0,   0,  18,  44,  82, 107, 189, 228, 220, 222, 217,\n",
    "        226, 200, 205, 211, 230, 224, 234, 176, 188, 250, 248, 233, 238,\n",
    "        215,   0,\n",
    "         0,  57, 187, 208, 224, 221, 224, 208, 204, 214, 208, 209, 200,\n",
    "        159, 245, 193, 206, 223, 255, 255, 221, 234, 221, 211, 220, 232,\n",
    "        246,   0,\n",
    "         3, 202, 228, 224, 221, 211, 211, 214, 205, 205, 205, 220, 240,\n",
    "         80, 150, 255, 229, 221, 188, 154, 191, 210, 204, 209, 222, 228,\n",
    "        225,   0,\n",
    "        98, 233, 198, 210, 222, 229, 229, 234, 249, 220, 194, 215, 217,\n",
    "        241,  65,  73, 106, 117, 168, 219, 221, 215, 217, 223, 223, 224,\n",
    "        229,  29,\n",
    "        75, 204, 212, 204, 193, 205, 211, 225, 216, 185, 197, 206, 198,\n",
    "        213, 240, 195, 227, 245, 239, 223, 218, 212, 209, 222, 220, 221,\n",
    "        230,  67,\n",
    "        48, 203, 183, 194, 213, 197, 185, 190, 194, 192, 202, 214, 219,\n",
    "        221, 220, 236, 225, 216, 199, 206, 186, 181, 177, 172, 181, 205,\n",
    "        206, 115,\n",
    "         0, 122, 219, 193, 179, 171, 183, 196, 204, 210, 213, 207, 211,\n",
    "        210, 200, 196, 194, 191, 195, 191, 198, 192, 176, 156, 167, 177,\n",
    "        210,  92,\n",
    "         0,   0,  74, 189, 212, 191, 175, 172, 175, 181, 185, 188, 189,\n",
    "        188, 193, 198, 204, 209, 210, 210, 211, 188, 188, 194, 192, 216,\n",
    "        170,   0,\n",
    "         2,   0,   0,   0,  66, 200, 222, 237, 239, 242, 246, 243, 244,\n",
    "        221, 220, 193, 191, 179, 182, 182, 181, 176, 166, 168,  99,  58,\n",
    "          0,   0,\n",
    "         0,   0,   0,   0,   0,   0,   0,  40,  61,  44,  72,  41,  35,\n",
    "          0,   0,   0,   0,   0,   0,   0,   0,   0,   0,   0,   0,   0,\n",
    "          0,   0,\n",
    "         0,   0,   0,   0,   0,   0,   0,   0,   0,   0,   0,   0,   0,\n",
    "          0,   0,   0,   0,   0,   0,   0,   0,   0,   0,   0,   0,   0,\n",
    "          0,   0,\n",
    "         0,   0,   0,   0,   0,   0,   0,   0,   0,   0,   0,   0,   0,\n",
    "          0,   0,   0,   0,   0,   0,   0,   0,   0,   0,   0,   0,   0,\n",
    "          0,   0 ]}] }"
   ]
  },
  {
   "cell_type": "code",
   "execution_count": 8,
   "metadata": {},
   "outputs": [],
   "source": [
    "with open(\"input_data_0.json\", \"w\") as json_file:\n",
    "    json.dump(json_data, json_file)"
   ]
  },
  {
   "cell_type": "code",
   "execution_count": null,
   "metadata": {},
   "outputs": [],
   "source": []
  }
 ],
 "metadata": {
  "kernelspec": {
   "display_name": "Python 3",
   "language": "python",
   "name": "python3"
  },
  "language_info": {
   "codemirror_mode": {
    "name": "ipython",
    "version": 3
   },
   "file_extension": ".py",
   "mimetype": "text/x-python",
   "name": "python",
   "nbconvert_exporter": "python",
   "pygments_lexer": "ipython3",
   "version": "3.6.8"
  }
 },
 "nbformat": 4,
 "nbformat_minor": 4
}
