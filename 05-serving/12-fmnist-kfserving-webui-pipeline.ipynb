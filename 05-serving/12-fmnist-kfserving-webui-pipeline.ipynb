{
 "cells": [
  {
   "cell_type": "code",
   "execution_count": 2,
   "metadata": {},
   "outputs": [
    {
     "data": {
      "text/html": [
       "Experiment link <a href=\"/pipeline/#/experiments/details/67f3e85e-2862-42c9-b2d1-c57e943c642f\" target=\"_blank\" >here</a>"
      ],
      "text/plain": [
       "<IPython.core.display.HTML object>"
      ]
     },
     "metadata": {},
     "output_type": "display_data"
    },
    {
     "data": {
      "text/html": [
       "Run link <a href=\"/pipeline/#/runs/details/2cd1bea2-c34c-4d81-b119-a37b0ebf5192\" target=\"_blank\" >here</a>"
      ],
      "text/plain": [
       "<IPython.core.display.HTML object>"
      ]
     },
     "metadata": {},
     "output_type": "display_data"
    }
   ],
   "source": [
    "import kfp\n",
    "import kfp.dsl as dsl\n",
    "import kfp.onprem as onprem\n",
    "import kfp.components as comp\n",
    "\n",
    "\n",
    "    \n",
    "def echo_op(text):\n",
    "    return dsl.ContainerOp(\n",
    "        name='echo',\n",
    "        image='library/bash:4.4.23',\n",
    "        command=['sh', '-c'],\n",
    "        arguments=['echo \"$0\"', text],\n",
    "    )  \n",
    "\n",
    "@dsl.pipeline(\n",
    "    name='FMnistPipeline',\n",
    "    description='mnist '\n",
    ")\n",
    "def fmnist_pipeline(learning_rate, dropout_rate, epoch, act, layer,  \n",
    "                    checkpoint_dir, saved_model_dir, pvc_name, tensorboard_log,\n",
    "                    name, model_version, namespace):\n",
    "  \n",
    "    exit_task = echo_op(\"Done!\")\n",
    "    \n",
    "    with dsl.ExitHandler(exit_task): \n",
    "\n",
    "        kubeflow_pvc = dsl.PipelineVolume(pvc=str(pvc_name))\n",
    "        \n",
    "        mnist = dsl.ContainerOp(\n",
    "            name='model_training-fmnist',\n",
    "            image='kubeflow-registry.default.svc.cluster.local:30000/serving-job:3EE0EE4C',  # here  cpu\n",
    "            command=['python', '/app/10-fmnist-save-model-renew.py'],\n",
    "            arguments=[\n",
    "                \"--learning_rate\", learning_rate,\n",
    "                \"--dropout_rate\", dropout_rate,\n",
    "                \"--epoch\", epoch,\n",
    "                \"--act\", act,\n",
    "                \"--layer\", layer,\n",
    "                \"--checkpoint_dir\", checkpoint_dir,\n",
    "                \"--saved_model_dir\", saved_model_dir,\n",
    "                \"--model_version\", model_version,\n",
    "                \"--tensorboard_log\", tensorboard_log\n",
    "            ],\n",
    "            pvolumes={\"/result\": kubeflow_pvc}\n",
    "        )\n",
    "                \n",
    "        kfserving = dsl.ContainerOp(\n",
    "            name='inferenceservice',\n",
    "            image='kubeflow-registry.default.svc.cluster.local:30000/kfserving:FCC11620',    # cpu pvc model\n",
    "            command=['python', '/app/11-KFServing-fairing.py'],\n",
    "            arguments=[\n",
    "                \"--namespace\", namespace,\n",
    "                \"--storage_uri\", \"pvc://\" +  str(pvc_name) + \"/saved_model\", # kubeflow-pvc\n",
    "                \"--name\", name\n",
    "            ]\n",
    "          )        \n",
    "                \n",
    "        mnist_web_ui = dsl.ContainerOp(\n",
    "            name='web_ui-fmnist',\n",
    "#            image='brightfly/fmnist-webui-deploy:latest',\n",
    "            image='alforik/common:fmnist-webui-32200',    # for dex version\n",
    "        )                \n",
    "        \n",
    "        kfserving.after(mnist)\n",
    "        mnist_web_ui.after(kfserving)\n",
    "    \n",
    "\n",
    "arguments = {'learning_rate': '0.001397',\n",
    "             'dropout_rate': '0.18',\n",
    "             'epoch' : '1',\n",
    "             'act' : 'sigmoid',\n",
    "             'layer': '2',\n",
    "             'checkpoint_dir': '/reuslt/training_checkpoints',\n",
    "             'saved_model_dir':'/result/saved_model/',\n",
    "             'pvc_name' : 'kubeflow-pvc',\n",
    "             'tensorboard_log': '/result/log',\n",
    "             'name' : 'kfserving-fmnist',\n",
    "             'model_version' : '0001',\n",
    "             'namespace' : 'kubeflow'\n",
    "            }\n",
    "    \n",
    "if __name__ == '__main__':\n",
    "    kfp.Client().create_run_from_pipeline_func(pipeline_func=fmnist_pipeline, \n",
    "                                               arguments=arguments, experiment_name=\"serving\")"
   ]
  },
  {
   "cell_type": "code",
   "execution_count": null,
   "metadata": {},
   "outputs": [],
   "source": []
  }
 ],
 "metadata": {
  "kernelspec": {
   "display_name": "Python 3",
   "language": "python",
   "name": "python3"
  },
  "language_info": {
   "codemirror_mode": {
    "name": "ipython",
    "version": 3
   },
   "file_extension": ".py",
   "mimetype": "text/x-python",
   "name": "python",
   "nbconvert_exporter": "python",
   "pygments_lexer": "ipython3",
   "version": "3.6.8"
  }
 },
 "nbformat": 4,
 "nbformat_minor": 4
}
